{
  "nbformat": 4,
  "nbformat_minor": 0,
  "metadata": {
    "colab": {
      "name": "Shopify.ipynb",
      "provenance": [],
      "collapsed_sections": [],
      "authorship_tag": "ABX9TyPIxseXSUldTgXeZcSuKxC7",
      "include_colab_link": true
    },
    "kernelspec": {
      "name": "python3",
      "display_name": "Python 3"
    },
    "language_info": {
      "name": "python"
    }
  },
  "cells": [
    {
      "cell_type": "markdown",
      "metadata": {
        "id": "view-in-github",
        "colab_type": "text"
      },
      "source": [
        "<a href=\"https://colab.research.google.com/github/shahparth0007/Google_Collab_Files/blob/main/Shopify.ipynb\" target=\"_parent\"><img src=\"https://colab.research.google.com/assets/colab-badge.svg\" alt=\"Open In Colab\"/></a>"
      ]
    },
    {
      "cell_type": "markdown",
      "source": [
        "## ***Shopify Summer 2022 Data Science Intern Challenge***\n",
        "\n",
        "---\n",
        "\n"
      ],
      "metadata": {
        "id": "tDYUN65WHkG1"
      }
    },
    {
      "cell_type": "markdown",
      "source": [
        "### **Question 1:** Given some sample data, write a program to answer the following:\n",
        "\n",
        "On Shopify, we have exactly 100 sneaker shops, and each of these shops sells only one model of shoe. We want to do some analysis of the average order value (AOV). When we look at orders data over a 30 day window, we naively calculate an AOV of $3145.13. Given that we know these shops are selling sneakers, a relatively affordable item, something seems wrong with our analysis. \n",
        "\n",
        "a.\tThink about what could be going wrong with our calculation. Think about a better way to evaluate this data. \n",
        "\n",
        "b.\tWhat metric would you report for this dataset?\n",
        "\n",
        "c.\tWhat is its value?\n"
      ],
      "metadata": {
        "id": "S-Auy0gCHsZj"
      }
    },
    {
      "cell_type": "markdown",
      "source": [
        "**Answer**: After every code explaination has been written to provide the answers for above question"
      ],
      "metadata": {
        "id": "TCgqT8OUUPIz"
      }
    },
    {
      "cell_type": "code",
      "source": [
        "import pandas as pd\n",
        "import numpy as np \n",
        "import seaborn as sns\n",
        "import matplotlib.pyplot as plt"
      ],
      "metadata": {
        "id": "pqfDt1FDFclU"
      },
      "execution_count": 1,
      "outputs": []
    },
    {
      "cell_type": "code",
      "source": [
        "df = pd.read_excel('/content/Shopify.xlsx')"
      ],
      "metadata": {
        "id": "1NqNzxO7FfT8"
      },
      "execution_count": 2,
      "outputs": []
    },
    {
      "cell_type": "code",
      "source": [
        "df.describe()"
      ],
      "metadata": {
        "colab": {
          "base_uri": "https://localhost:8080/",
          "height": 297
        },
        "id": "RdnU0PIXFz0Y",
        "outputId": "50921400-7589-4318-da54-5bb9b99806a4"
      },
      "execution_count": 3,
      "outputs": [
        {
          "output_type": "execute_result",
          "data": {
            "text/html": [
              "\n",
              "  <div id=\"df-d5d84764-a90a-482d-befd-b1b52fb76cd3\">\n",
              "    <div class=\"colab-df-container\">\n",
              "      <div>\n",
              "<style scoped>\n",
              "    .dataframe tbody tr th:only-of-type {\n",
              "        vertical-align: middle;\n",
              "    }\n",
              "\n",
              "    .dataframe tbody tr th {\n",
              "        vertical-align: top;\n",
              "    }\n",
              "\n",
              "    .dataframe thead th {\n",
              "        text-align: right;\n",
              "    }\n",
              "</style>\n",
              "<table border=\"1\" class=\"dataframe\">\n",
              "  <thead>\n",
              "    <tr style=\"text-align: right;\">\n",
              "      <th></th>\n",
              "      <th>order_id</th>\n",
              "      <th>shop_id</th>\n",
              "      <th>user_id</th>\n",
              "      <th>order_amount</th>\n",
              "      <th>total_items</th>\n",
              "    </tr>\n",
              "  </thead>\n",
              "  <tbody>\n",
              "    <tr>\n",
              "      <th>count</th>\n",
              "      <td>5000.000000</td>\n",
              "      <td>5000.000000</td>\n",
              "      <td>5000.000000</td>\n",
              "      <td>5000.000000</td>\n",
              "      <td>5000.00000</td>\n",
              "    </tr>\n",
              "    <tr>\n",
              "      <th>mean</th>\n",
              "      <td>2500.500000</td>\n",
              "      <td>50.078800</td>\n",
              "      <td>849.092400</td>\n",
              "      <td>3145.128000</td>\n",
              "      <td>8.78720</td>\n",
              "    </tr>\n",
              "    <tr>\n",
              "      <th>std</th>\n",
              "      <td>1443.520003</td>\n",
              "      <td>29.006118</td>\n",
              "      <td>87.798982</td>\n",
              "      <td>41282.539349</td>\n",
              "      <td>116.32032</td>\n",
              "    </tr>\n",
              "    <tr>\n",
              "      <th>min</th>\n",
              "      <td>1.000000</td>\n",
              "      <td>1.000000</td>\n",
              "      <td>607.000000</td>\n",
              "      <td>90.000000</td>\n",
              "      <td>1.00000</td>\n",
              "    </tr>\n",
              "    <tr>\n",
              "      <th>25%</th>\n",
              "      <td>1250.750000</td>\n",
              "      <td>24.000000</td>\n",
              "      <td>775.000000</td>\n",
              "      <td>163.000000</td>\n",
              "      <td>1.00000</td>\n",
              "    </tr>\n",
              "    <tr>\n",
              "      <th>50%</th>\n",
              "      <td>2500.500000</td>\n",
              "      <td>50.000000</td>\n",
              "      <td>849.000000</td>\n",
              "      <td>284.000000</td>\n",
              "      <td>2.00000</td>\n",
              "    </tr>\n",
              "    <tr>\n",
              "      <th>75%</th>\n",
              "      <td>3750.250000</td>\n",
              "      <td>75.000000</td>\n",
              "      <td>925.000000</td>\n",
              "      <td>390.000000</td>\n",
              "      <td>3.00000</td>\n",
              "    </tr>\n",
              "    <tr>\n",
              "      <th>max</th>\n",
              "      <td>5000.000000</td>\n",
              "      <td>100.000000</td>\n",
              "      <td>999.000000</td>\n",
              "      <td>704000.000000</td>\n",
              "      <td>2000.00000</td>\n",
              "    </tr>\n",
              "  </tbody>\n",
              "</table>\n",
              "</div>\n",
              "      <button class=\"colab-df-convert\" onclick=\"convertToInteractive('df-d5d84764-a90a-482d-befd-b1b52fb76cd3')\"\n",
              "              title=\"Convert this dataframe to an interactive table.\"\n",
              "              style=\"display:none;\">\n",
              "        \n",
              "  <svg xmlns=\"http://www.w3.org/2000/svg\" height=\"24px\"viewBox=\"0 0 24 24\"\n",
              "       width=\"24px\">\n",
              "    <path d=\"M0 0h24v24H0V0z\" fill=\"none\"/>\n",
              "    <path d=\"M18.56 5.44l.94 2.06.94-2.06 2.06-.94-2.06-.94-.94-2.06-.94 2.06-2.06.94zm-11 1L8.5 8.5l.94-2.06 2.06-.94-2.06-.94L8.5 2.5l-.94 2.06-2.06.94zm10 10l.94 2.06.94-2.06 2.06-.94-2.06-.94-.94-2.06-.94 2.06-2.06.94z\"/><path d=\"M17.41 7.96l-1.37-1.37c-.4-.4-.92-.59-1.43-.59-.52 0-1.04.2-1.43.59L10.3 9.45l-7.72 7.72c-.78.78-.78 2.05 0 2.83L4 21.41c.39.39.9.59 1.41.59.51 0 1.02-.2 1.41-.59l7.78-7.78 2.81-2.81c.8-.78.8-2.07 0-2.86zM5.41 20L4 18.59l7.72-7.72 1.47 1.35L5.41 20z\"/>\n",
              "  </svg>\n",
              "      </button>\n",
              "      \n",
              "  <style>\n",
              "    .colab-df-container {\n",
              "      display:flex;\n",
              "      flex-wrap:wrap;\n",
              "      gap: 12px;\n",
              "    }\n",
              "\n",
              "    .colab-df-convert {\n",
              "      background-color: #E8F0FE;\n",
              "      border: none;\n",
              "      border-radius: 50%;\n",
              "      cursor: pointer;\n",
              "      display: none;\n",
              "      fill: #1967D2;\n",
              "      height: 32px;\n",
              "      padding: 0 0 0 0;\n",
              "      width: 32px;\n",
              "    }\n",
              "\n",
              "    .colab-df-convert:hover {\n",
              "      background-color: #E2EBFA;\n",
              "      box-shadow: 0px 1px 2px rgba(60, 64, 67, 0.3), 0px 1px 3px 1px rgba(60, 64, 67, 0.15);\n",
              "      fill: #174EA6;\n",
              "    }\n",
              "\n",
              "    [theme=dark] .colab-df-convert {\n",
              "      background-color: #3B4455;\n",
              "      fill: #D2E3FC;\n",
              "    }\n",
              "\n",
              "    [theme=dark] .colab-df-convert:hover {\n",
              "      background-color: #434B5C;\n",
              "      box-shadow: 0px 1px 3px 1px rgba(0, 0, 0, 0.15);\n",
              "      filter: drop-shadow(0px 1px 2px rgba(0, 0, 0, 0.3));\n",
              "      fill: #FFFFFF;\n",
              "    }\n",
              "  </style>\n",
              "\n",
              "      <script>\n",
              "        const buttonEl =\n",
              "          document.querySelector('#df-d5d84764-a90a-482d-befd-b1b52fb76cd3 button.colab-df-convert');\n",
              "        buttonEl.style.display =\n",
              "          google.colab.kernel.accessAllowed ? 'block' : 'none';\n",
              "\n",
              "        async function convertToInteractive(key) {\n",
              "          const element = document.querySelector('#df-d5d84764-a90a-482d-befd-b1b52fb76cd3');\n",
              "          const dataTable =\n",
              "            await google.colab.kernel.invokeFunction('convertToInteractive',\n",
              "                                                     [key], {});\n",
              "          if (!dataTable) return;\n",
              "\n",
              "          const docLinkHtml = 'Like what you see? Visit the ' +\n",
              "            '<a target=\"_blank\" href=https://colab.research.google.com/notebooks/data_table.ipynb>data table notebook</a>'\n",
              "            + ' to learn more about interactive tables.';\n",
              "          element.innerHTML = '';\n",
              "          dataTable['output_type'] = 'display_data';\n",
              "          await google.colab.output.renderOutput(dataTable, element);\n",
              "          const docLink = document.createElement('div');\n",
              "          docLink.innerHTML = docLinkHtml;\n",
              "          element.appendChild(docLink);\n",
              "        }\n",
              "      </script>\n",
              "    </div>\n",
              "  </div>\n",
              "  "
            ],
            "text/plain": [
              "          order_id      shop_id      user_id   order_amount  total_items\n",
              "count  5000.000000  5000.000000  5000.000000    5000.000000   5000.00000\n",
              "mean   2500.500000    50.078800   849.092400    3145.128000      8.78720\n",
              "std    1443.520003    29.006118    87.798982   41282.539349    116.32032\n",
              "min       1.000000     1.000000   607.000000      90.000000      1.00000\n",
              "25%    1250.750000    24.000000   775.000000     163.000000      1.00000\n",
              "50%    2500.500000    50.000000   849.000000     284.000000      2.00000\n",
              "75%    3750.250000    75.000000   925.000000     390.000000      3.00000\n",
              "max    5000.000000   100.000000   999.000000  704000.000000   2000.00000"
            ]
          },
          "metadata": {},
          "execution_count": 3
        }
      ]
    },
    {
      "cell_type": "code",
      "source": [
        "# Verify Average Order Value is $3145.13\n",
        "print('Average Order Value:', df['order_amount'].mean())"
      ],
      "metadata": {
        "colab": {
          "base_uri": "https://localhost:8080/"
        },
        "id": "33g2ZuhFNAgS",
        "outputId": "5aad71b4-1d28-4952-9542-a49992b82cbc"
      },
      "execution_count": 4,
      "outputs": [
        {
          "output_type": "stream",
          "name": "stdout",
          "text": [
            "Average Order Value: 3145.128\n"
          ]
        }
      ]
    },
    {
      "cell_type": "code",
      "source": [
        "average_value_stores = df[['order_amount','shop_id']].groupby('shop_id').mean()\n",
        "average_value_stores.boxplot(column=['order_amount'])"
      ],
      "metadata": {
        "colab": {
          "base_uri": "https://localhost:8080/",
          "height": 283
        },
        "id": "EGlPjEwVHHDb",
        "outputId": "ae0d0ec7-afd7-494c-dc57-525e7da6b9b7"
      },
      "execution_count": 5,
      "outputs": [
        {
          "output_type": "execute_result",
          "data": {
            "text/plain": [
              "<matplotlib.axes._subplots.AxesSubplot at 0x7f2f52c7e9d0>"
            ]
          },
          "metadata": {},
          "execution_count": 5
        },
        {
          "output_type": "display_data",
          "data": {
            "image/png": "[encoded data removed]",
            "text/plain": [
              "<Figure size 432x288 with 1 Axes>"
            ]
          },
          "metadata": {
            "needs_background": "light"
          }
        }
      ]
    },
    {
      "cell_type": "code",
      "source": [
        "#View the distribution of order sizes.\n",
        "sns.countplot(x='total_items', data=df)\n",
        "pd.DataFrame(df['total_items'].value_counts().sort_index())"
      ],
      "metadata": {
        "colab": {
          "base_uri": "https://localhost:8080/",
          "height": 560
        },
        "id": "hdBs-L_BHeVC",
        "outputId": "07167d5a-cbc5-490c-8b78-109e87065124"
      },
      "execution_count": 6,
      "outputs": [
        {
          "output_type": "execute_result",
          "data": {
            "text/html": [
              "\n",
              "  <div id=\"df-b182897d-f7c6-41f7-b2be-73b2d8aa03c1\">\n",
              "    <div class=\"colab-df-container\">\n",
              "      <div>\n",
              "<style scoped>\n",
              "    .dataframe tbody tr th:only-of-type {\n",
              "        vertical-align: middle;\n",
              "    }\n",
              "\n",
              "    .dataframe tbody tr th {\n",
              "        vertical-align: top;\n",
              "    }\n",
              "\n",
              "    .dataframe thead th {\n",
              "        text-align: right;\n",
              "    }\n",
              "</style>\n",
              "<table border=\"1\" class=\"dataframe\">\n",
              "  <thead>\n",
              "    <tr style=\"text-align: right;\">\n",
              "      <th></th>\n",
              "      <th>total_items</th>\n",
              "    </tr>\n",
              "  </thead>\n",
              "  <tbody>\n",
              "    <tr>\n",
              "      <th>1</th>\n",
              "      <td>1830</td>\n",
              "    </tr>\n",
              "    <tr>\n",
              "      <th>2</th>\n",
              "      <td>1832</td>\n",
              "    </tr>\n",
              "    <tr>\n",
              "      <th>3</th>\n",
              "      <td>941</td>\n",
              "    </tr>\n",
              "    <tr>\n",
              "      <th>4</th>\n",
              "      <td>293</td>\n",
              "    </tr>\n",
              "    <tr>\n",
              "      <th>5</th>\n",
              "      <td>77</td>\n",
              "    </tr>\n",
              "    <tr>\n",
              "      <th>6</th>\n",
              "      <td>9</td>\n",
              "    </tr>\n",
              "    <tr>\n",
              "      <th>8</th>\n",
              "      <td>1</td>\n",
              "    </tr>\n",
              "    <tr>\n",
              "      <th>2000</th>\n",
              "      <td>17</td>\n",
              "    </tr>\n",
              "  </tbody>\n",
              "</table>\n",
              "</div>\n",
              "      <button class=\"colab-df-convert\" onclick=\"convertToInteractive('df-b182897d-f7c6-41f7-b2be-73b2d8aa03c1')\"\n",
              "              title=\"Convert this dataframe to an interactive table.\"\n",
              "              style=\"display:none;\">\n",
              "        \n",
              "  <svg xmlns=\"http://www.w3.org/2000/svg\" height=\"24px\"viewBox=\"0 0 24 24\"\n",
              "       width=\"24px\">\n",
              "    <path d=\"M0 0h24v24H0V0z\" fill=\"none\"/>\n",
              "    <path d=\"M18.56 5.44l.94 2.06.94-2.06 2.06-.94-2.06-.94-.94-2.06-.94 2.06-2.06.94zm-11 1L8.5 8.5l.94-2.06 2.06-.94-2.06-.94L8.5 2.5l-.94 2.06-2.06.94zm10 10l.94 2.06.94-2.06 2.06-.94-2.06-.94-.94-2.06-.94 2.06-2.06.94z\"/><path d=\"M17.41 7.96l-1.37-1.37c-.4-.4-.92-.59-1.43-.59-.52 0-1.04.2-1.43.59L10.3 9.45l-7.72 7.72c-.78.78-.78 2.05 0 2.83L4 21.41c.39.39.9.59 1.41.59.51 0 1.02-.2 1.41-.59l7.78-7.78 2.81-2.81c.8-.78.8-2.07 0-2.86zM5.41 20L4 18.59l7.72-7.72 1.47 1.35L5.41 20z\"/>\n",
              "  </svg>\n",
              "      </button>\n",
              "      \n",
              "  <style>\n",
              "    .colab-df-container {\n",
              "      display:flex;\n",
              "      flex-wrap:wrap;\n",
              "      gap: 12px;\n",
              "    }\n",
              "\n",
              "    .colab-df-convert {\n",
              "      background-color: #E8F0FE;\n",
              "      border: none;\n",
              "      border-radius: 50%;\n",
              "      cursor: pointer;\n",
              "      display: none;\n",
              "      fill: #1967D2;\n",
              "      height: 32px;\n",
              "      padding: 0 0 0 0;\n",
              "      width: 32px;\n",
              "    }\n",
              "\n",
              "    .colab-df-convert:hover {\n",
              "      background-color: #E2EBFA;\n",
              "      box-shadow: 0px 1px 2px rgba(60, 64, 67, 0.3), 0px 1px 3px 1px rgba(60, 64, 67, 0.15);\n",
              "      fill: #174EA6;\n",
              "    }\n",
              "\n",
              "    [theme=dark] .colab-df-convert {\n",
              "      background-color: #3B4455;\n",
              "      fill: #D2E3FC;\n",
              "    }\n",
              "\n",
              "    [theme=dark] .colab-df-convert:hover {\n",
              "      background-color: #434B5C;\n",
              "      box-shadow: 0px 1px 3px 1px rgba(0, 0, 0, 0.15);\n",
              "      filter: drop-shadow(0px 1px 2px rgba(0, 0, 0, 0.3));\n",
              "      fill: #FFFFFF;\n",
              "    }\n",
              "  </style>\n",
              "\n",
              "      <script>\n",
              "        const buttonEl =\n",
              "          document.querySelector('#df-b182897d-f7c6-41f7-b2be-73b2d8aa03c1 button.colab-df-convert');\n",
              "        buttonEl.style.display =\n",
              "          google.colab.kernel.accessAllowed ? 'block' : 'none';\n",
              "\n",
              "        async function convertToInteractive(key) {\n",
              "          const element = document.querySelector('#df-b182897d-f7c6-41f7-b2be-73b2d8aa03c1');\n",
              "          const dataTable =\n",
              "            await google.colab.kernel.invokeFunction('convertToInteractive',\n",
              "                                                     [key], {});\n",
              "          if (!dataTable) return;\n",
              "\n",
              "          const docLinkHtml = 'Like what you see? Visit the ' +\n",
              "            '<a target=\"_blank\" href=https://colab.research.google.com/notebooks/data_table.ipynb>data table notebook</a>'\n",
              "            + ' to learn more about interactive tables.';\n",
              "          element.innerHTML = '';\n",
              "          dataTable['output_type'] = 'display_data';\n",
              "          await google.colab.output.renderOutput(dataTable, element);\n",
              "          const docLink = document.createElement('div');\n",
              "          docLink.innerHTML = docLinkHtml;\n",
              "          element.appendChild(docLink);\n",
              "        }\n",
              "      </script>\n",
              "    </div>\n",
              "  </div>\n",
              "  "
            ],
            "text/plain": [
              "      total_items\n",
              "1            1830\n",
              "2            1832\n",
              "3             941\n",
              "4             293\n",
              "5              77\n",
              "6               9\n",
              "8               1\n",
              "2000           17"
            ]
          },
          "metadata": {},
          "execution_count": 6
        },
        {
          "output_type": "display_data",
          "data": {
            "image/png": "[encoded data removed]",
            "text/plain": [
              "<Figure size 432x288 with 1 Axes>"
            ]
          },
          "metadata": {
            "needs_background": "light"
          }
        }
      ]
    },
    {
      "cell_type": "markdown",
      "source": [
        "We can see there are 17 rows with 2000 total_items which is skweing the data on HIgher Side.\n"
      ],
      "metadata": {
        "id": "Cdlk99CXI6k6"
      }
    },
    {
      "cell_type": "markdown",
      "source": [
        "Next we see what are the distinct shoe prices in our dataset"
      ],
      "metadata": {
        "id": "_gZp9wjOPt38"
      }
    },
    {
      "cell_type": "code",
      "source": [
        "df['Per_item'] = df['order_amount']/df['total_items']\n",
        "pd.DataFrame(df['Per_item'].describe())"
      ],
      "metadata": {
        "colab": {
          "base_uri": "https://localhost:8080/",
          "height": 297
        },
        "id": "fxy8tP0HPL5D",
        "outputId": "344f3c21-be91-4b5b-f583-b899c73f66c2"
      },
      "execution_count": 7,
      "outputs": [
        {
          "output_type": "execute_result",
          "data": {
            "text/html": [
              "\n",
              "  <div id=\"df-66195e19-1899-449f-a82b-d734634d91e7\">\n",
              "    <div class=\"colab-df-container\">\n",
              "      <div>\n",
              "<style scoped>\n",
              "    .dataframe tbody tr th:only-of-type {\n",
              "        vertical-align: middle;\n",
              "    }\n",
              "\n",
              "    .dataframe tbody tr th {\n",
              "        vertical-align: top;\n",
              "    }\n",
              "\n",
              "    .dataframe thead th {\n",
              "        text-align: right;\n",
              "    }\n",
              "</style>\n",
              "<table border=\"1\" class=\"dataframe\">\n",
              "  <thead>\n",
              "    <tr style=\"text-align: right;\">\n",
              "      <th></th>\n",
              "      <th>Per_item</th>\n",
              "    </tr>\n",
              "  </thead>\n",
              "  <tbody>\n",
              "    <tr>\n",
              "      <th>count</th>\n",
              "      <td>5000.000000</td>\n",
              "    </tr>\n",
              "    <tr>\n",
              "      <th>mean</th>\n",
              "      <td>387.742800</td>\n",
              "    </tr>\n",
              "    <tr>\n",
              "      <th>std</th>\n",
              "      <td>2441.963725</td>\n",
              "    </tr>\n",
              "    <tr>\n",
              "      <th>min</th>\n",
              "      <td>90.000000</td>\n",
              "    </tr>\n",
              "    <tr>\n",
              "      <th>25%</th>\n",
              "      <td>133.000000</td>\n",
              "    </tr>\n",
              "    <tr>\n",
              "      <th>50%</th>\n",
              "      <td>153.000000</td>\n",
              "    </tr>\n",
              "    <tr>\n",
              "      <th>75%</th>\n",
              "      <td>169.000000</td>\n",
              "    </tr>\n",
              "    <tr>\n",
              "      <th>max</th>\n",
              "      <td>25725.000000</td>\n",
              "    </tr>\n",
              "  </tbody>\n",
              "</table>\n",
              "</div>\n",
              "      <button class=\"colab-df-convert\" onclick=\"convertToInteractive('df-66195e19-1899-449f-a82b-d734634d91e7')\"\n",
              "              title=\"Convert this dataframe to an interactive table.\"\n",
              "              style=\"display:none;\">\n",
              "        \n",
              "  <svg xmlns=\"http://www.w3.org/2000/svg\" height=\"24px\"viewBox=\"0 0 24 24\"\n",
              "       width=\"24px\">\n",
              "    <path d=\"M0 0h24v24H0V0z\" fill=\"none\"/>\n",
              "    <path d=\"M18.56 5.44l.94 2.06.94-2.06 2.06-.94-2.06-.94-.94-2.06-.94 2.06-2.06.94zm-11 1L8.5 8.5l.94-2.06 2.06-.94-2.06-.94L8.5 2.5l-.94 2.06-2.06.94zm10 10l.94 2.06.94-2.06 2.06-.94-2.06-.94-.94-2.06-.94 2.06-2.06.94z\"/><path d=\"M17.41 7.96l-1.37-1.37c-.4-.4-.92-.59-1.43-.59-.52 0-1.04.2-1.43.59L10.3 9.45l-7.72 7.72c-.78.78-.78 2.05 0 2.83L4 21.41c.39.39.9.59 1.41.59.51 0 1.02-.2 1.41-.59l7.78-7.78 2.81-2.81c.8-.78.8-2.07 0-2.86zM5.41 20L4 18.59l7.72-7.72 1.47 1.35L5.41 20z\"/>\n",
              "  </svg>\n",
              "      </button>\n",
              "      \n",
              "  <style>\n",
              "    .colab-df-container {\n",
              "      display:flex;\n",
              "      flex-wrap:wrap;\n",
              "      gap: 12px;\n",
              "    }\n",
              "\n",
              "    .colab-df-convert {\n",
              "      background-color: #E8F0FE;\n",
              "      border: none;\n",
              "      border-radius: 50%;\n",
              "      cursor: pointer;\n",
              "      display: none;\n",
              "      fill: #1967D2;\n",
              "      height: 32px;\n",
              "      padding: 0 0 0 0;\n",
              "      width: 32px;\n",
              "    }\n",
              "\n",
              "    .colab-df-convert:hover {\n",
              "      background-color: #E2EBFA;\n",
              "      box-shadow: 0px 1px 2px rgba(60, 64, 67, 0.3), 0px 1px 3px 1px rgba(60, 64, 67, 0.15);\n",
              "      fill: #174EA6;\n",
              "    }\n",
              "\n",
              "    [theme=dark] .colab-df-convert {\n",
              "      background-color: #3B4455;\n",
              "      fill: #D2E3FC;\n",
              "    }\n",
              "\n",
              "    [theme=dark] .colab-df-convert:hover {\n",
              "      background-color: #434B5C;\n",
              "      box-shadow: 0px 1px 3px 1px rgba(0, 0, 0, 0.15);\n",
              "      filter: drop-shadow(0px 1px 2px rgba(0, 0, 0, 0.3));\n",
              "      fill: #FFFFFF;\n",
              "    }\n",
              "  </style>\n",
              "\n",
              "      <script>\n",
              "        const buttonEl =\n",
              "          document.querySelector('#df-66195e19-1899-449f-a82b-d734634d91e7 button.colab-df-convert');\n",
              "        buttonEl.style.display =\n",
              "          google.colab.kernel.accessAllowed ? 'block' : 'none';\n",
              "\n",
              "        async function convertToInteractive(key) {\n",
              "          const element = document.querySelector('#df-66195e19-1899-449f-a82b-d734634d91e7');\n",
              "          const dataTable =\n",
              "            await google.colab.kernel.invokeFunction('convertToInteractive',\n",
              "                                                     [key], {});\n",
              "          if (!dataTable) return;\n",
              "\n",
              "          const docLinkHtml = 'Like what you see? Visit the ' +\n",
              "            '<a target=\"_blank\" href=https://colab.research.google.com/notebooks/data_table.ipynb>data table notebook</a>'\n",
              "            + ' to learn more about interactive tables.';\n",
              "          element.innerHTML = '';\n",
              "          dataTable['output_type'] = 'display_data';\n",
              "          await google.colab.output.renderOutput(dataTable, element);\n",
              "          const docLink = document.createElement('div');\n",
              "          docLink.innerHTML = docLinkHtml;\n",
              "          element.appendChild(docLink);\n",
              "        }\n",
              "      </script>\n",
              "    </div>\n",
              "  </div>\n",
              "  "
            ],
            "text/plain": [
              "           Per_item\n",
              "count   5000.000000\n",
              "mean     387.742800\n",
              "std     2441.963725\n",
              "min       90.000000\n",
              "25%      133.000000\n",
              "50%      153.000000\n",
              "75%      169.000000\n",
              "max    25725.000000"
            ]
          },
          "metadata": {},
          "execution_count": 7
        }
      ]
    },
    {
      "cell_type": "markdown",
      "source": [
        "We have a shoe price of 25,725 in our dataset which is a huge amount. Lets see who is selling this"
      ],
      "metadata": {
        "id": "RBHmDz6ZQaDU"
      }
    },
    {
      "cell_type": "code",
      "source": [
        "df[df['order_amount'] == 25725]"
      ],
      "metadata": {
        "colab": {
          "base_uri": "https://localhost:8080/",
          "height": 638
        },
        "id": "6-DQfrVqQkgA",
        "outputId": "4cdf0f03-ac62-4df7-a988-2ddb39121dcd"
      },
      "execution_count": 8,
      "outputs": [
        {
          "output_type": "execute_result",
          "data": {
            "text/html": [
              "\n",
              "  <div id=\"df-21538f0c-3f43-4ed8-81a2-3e2ba7dd04a5\">\n",
              "    <div class=\"colab-df-container\">\n",
              "      <div>\n",
              "<style scoped>\n",
              "    .dataframe tbody tr th:only-of-type {\n",
              "        vertical-align: middle;\n",
              "    }\n",
              "\n",
              "    .dataframe tbody tr th {\n",
              "        vertical-align: top;\n",
              "    }\n",
              "\n",
              "    .dataframe thead th {\n",
              "        text-align: right;\n",
              "    }\n",
              "</style>\n",
              "<table border=\"1\" class=\"dataframe\">\n",
              "  <thead>\n",
              "    <tr style=\"text-align: right;\">\n",
              "      <th></th>\n",
              "      <th>order_id</th>\n",
              "      <th>shop_id</th>\n",
              "      <th>user_id</th>\n",
              "      <th>order_amount</th>\n",
              "      <th>total_items</th>\n",
              "      <th>payment_method</th>\n",
              "      <th>created_at</th>\n",
              "      <th>Per_item</th>\n",
              "    </tr>\n",
              "  </thead>\n",
              "  <tbody>\n",
              "    <tr>\n",
              "      <th>160</th>\n",
              "      <td>161</td>\n",
              "      <td>78</td>\n",
              "      <td>990</td>\n",
              "      <td>25725</td>\n",
              "      <td>1</td>\n",
              "      <td>credit_card</td>\n",
              "      <td>2017-03-12 05:56:56.834</td>\n",
              "      <td>25725.0</td>\n",
              "    </tr>\n",
              "    <tr>\n",
              "      <th>1056</th>\n",
              "      <td>1057</td>\n",
              "      <td>78</td>\n",
              "      <td>800</td>\n",
              "      <td>25725</td>\n",
              "      <td>1</td>\n",
              "      <td>debit</td>\n",
              "      <td>2017-03-15 10:16:44.830</td>\n",
              "      <td>25725.0</td>\n",
              "    </tr>\n",
              "    <tr>\n",
              "      <th>1193</th>\n",
              "      <td>1194</td>\n",
              "      <td>78</td>\n",
              "      <td>944</td>\n",
              "      <td>25725</td>\n",
              "      <td>1</td>\n",
              "      <td>debit</td>\n",
              "      <td>2017-03-16 16:38:25.551</td>\n",
              "      <td>25725.0</td>\n",
              "    </tr>\n",
              "    <tr>\n",
              "      <th>1204</th>\n",
              "      <td>1205</td>\n",
              "      <td>78</td>\n",
              "      <td>970</td>\n",
              "      <td>25725</td>\n",
              "      <td>1</td>\n",
              "      <td>credit_card</td>\n",
              "      <td>2017-03-17 22:32:21.438</td>\n",
              "      <td>25725.0</td>\n",
              "    </tr>\n",
              "    <tr>\n",
              "      <th>1384</th>\n",
              "      <td>1385</td>\n",
              "      <td>78</td>\n",
              "      <td>867</td>\n",
              "      <td>25725</td>\n",
              "      <td>1</td>\n",
              "      <td>cash</td>\n",
              "      <td>2017-03-17 16:38:06.279</td>\n",
              "      <td>25725.0</td>\n",
              "    </tr>\n",
              "    <tr>\n",
              "      <th>1419</th>\n",
              "      <td>1420</td>\n",
              "      <td>78</td>\n",
              "      <td>912</td>\n",
              "      <td>25725</td>\n",
              "      <td>1</td>\n",
              "      <td>cash</td>\n",
              "      <td>2017-03-30 12:23:42.551</td>\n",
              "      <td>25725.0</td>\n",
              "    </tr>\n",
              "    <tr>\n",
              "      <th>1452</th>\n",
              "      <td>1453</td>\n",
              "      <td>78</td>\n",
              "      <td>812</td>\n",
              "      <td>25725</td>\n",
              "      <td>1</td>\n",
              "      <td>credit_card</td>\n",
              "      <td>2017-03-17 18:09:54.089</td>\n",
              "      <td>25725.0</td>\n",
              "    </tr>\n",
              "    <tr>\n",
              "      <th>2270</th>\n",
              "      <td>2271</td>\n",
              "      <td>78</td>\n",
              "      <td>855</td>\n",
              "      <td>25725</td>\n",
              "      <td>1</td>\n",
              "      <td>credit_card</td>\n",
              "      <td>2017-03-14 23:58:21.635</td>\n",
              "      <td>25725.0</td>\n",
              "    </tr>\n",
              "    <tr>\n",
              "      <th>2548</th>\n",
              "      <td>2549</td>\n",
              "      <td>78</td>\n",
              "      <td>861</td>\n",
              "      <td>25725</td>\n",
              "      <td>1</td>\n",
              "      <td>cash</td>\n",
              "      <td>2017-03-17 19:35:59.663</td>\n",
              "      <td>25725.0</td>\n",
              "    </tr>\n",
              "    <tr>\n",
              "      <th>2773</th>\n",
              "      <td>2774</td>\n",
              "      <td>78</td>\n",
              "      <td>890</td>\n",
              "      <td>25725</td>\n",
              "      <td>1</td>\n",
              "      <td>cash</td>\n",
              "      <td>2017-03-26 10:36:43.445</td>\n",
              "      <td>25725.0</td>\n",
              "    </tr>\n",
              "    <tr>\n",
              "      <th>2922</th>\n",
              "      <td>2923</td>\n",
              "      <td>78</td>\n",
              "      <td>740</td>\n",
              "      <td>25725</td>\n",
              "      <td>1</td>\n",
              "      <td>debit</td>\n",
              "      <td>2017-03-12 20:10:58.008</td>\n",
              "      <td>25725.0</td>\n",
              "    </tr>\n",
              "    <tr>\n",
              "      <th>3085</th>\n",
              "      <td>3086</td>\n",
              "      <td>78</td>\n",
              "      <td>910</td>\n",
              "      <td>25725</td>\n",
              "      <td>1</td>\n",
              "      <td>cash</td>\n",
              "      <td>2017-03-26 01:59:26.748</td>\n",
              "      <td>25725.0</td>\n",
              "    </tr>\n",
              "    <tr>\n",
              "      <th>3151</th>\n",
              "      <td>3152</td>\n",
              "      <td>78</td>\n",
              "      <td>745</td>\n",
              "      <td>25725</td>\n",
              "      <td>1</td>\n",
              "      <td>credit_card</td>\n",
              "      <td>2017-03-18 13:13:07.198</td>\n",
              "      <td>25725.0</td>\n",
              "    </tr>\n",
              "    <tr>\n",
              "      <th>3440</th>\n",
              "      <td>3441</td>\n",
              "      <td>78</td>\n",
              "      <td>982</td>\n",
              "      <td>25725</td>\n",
              "      <td>1</td>\n",
              "      <td>debit</td>\n",
              "      <td>2017-03-19 19:02:53.732</td>\n",
              "      <td>25725.0</td>\n",
              "    </tr>\n",
              "    <tr>\n",
              "      <th>3780</th>\n",
              "      <td>3781</td>\n",
              "      <td>78</td>\n",
              "      <td>889</td>\n",
              "      <td>25725</td>\n",
              "      <td>1</td>\n",
              "      <td>cash</td>\n",
              "      <td>2017-03-11 21:14:49.542</td>\n",
              "      <td>25725.0</td>\n",
              "    </tr>\n",
              "    <tr>\n",
              "      <th>4040</th>\n",
              "      <td>4041</td>\n",
              "      <td>78</td>\n",
              "      <td>852</td>\n",
              "      <td>25725</td>\n",
              "      <td>1</td>\n",
              "      <td>cash</td>\n",
              "      <td>2017-03-02 14:31:11.566</td>\n",
              "      <td>25725.0</td>\n",
              "    </tr>\n",
              "    <tr>\n",
              "      <th>4505</th>\n",
              "      <td>4506</td>\n",
              "      <td>78</td>\n",
              "      <td>866</td>\n",
              "      <td>25725</td>\n",
              "      <td>1</td>\n",
              "      <td>debit</td>\n",
              "      <td>2017-03-22 22:06:00.804</td>\n",
              "      <td>25725.0</td>\n",
              "    </tr>\n",
              "    <tr>\n",
              "      <th>4584</th>\n",
              "      <td>4585</td>\n",
              "      <td>78</td>\n",
              "      <td>997</td>\n",
              "      <td>25725</td>\n",
              "      <td>1</td>\n",
              "      <td>cash</td>\n",
              "      <td>2017-03-25 21:48:43.570</td>\n",
              "      <td>25725.0</td>\n",
              "    </tr>\n",
              "    <tr>\n",
              "      <th>4918</th>\n",
              "      <td>4919</td>\n",
              "      <td>78</td>\n",
              "      <td>823</td>\n",
              "      <td>25725</td>\n",
              "      <td>1</td>\n",
              "      <td>cash</td>\n",
              "      <td>2017-03-15 13:26:46.262</td>\n",
              "      <td>25725.0</td>\n",
              "    </tr>\n",
              "  </tbody>\n",
              "</table>\n",
              "</div>\n",
              "      <button class=\"colab-df-convert\" onclick=\"convertToInteractive('df-21538f0c-3f43-4ed8-81a2-3e2ba7dd04a5')\"\n",
              "              title=\"Convert this dataframe to an interactive table.\"\n",
              "              style=\"display:none;\">\n",
              "        \n",
              "  <svg xmlns=\"http://www.w3.org/2000/svg\" height=\"24px\"viewBox=\"0 0 24 24\"\n",
              "       width=\"24px\">\n",
              "    <path d=\"M0 0h24v24H0V0z\" fill=\"none\"/>\n",
              "    <path d=\"M18.56 5.44l.94 2.06.94-2.06 2.06-.94-2.06-.94-.94-2.06-.94 2.06-2.06.94zm-11 1L8.5 8.5l.94-2.06 2.06-.94-2.06-.94L8.5 2.5l-.94 2.06-2.06.94zm10 10l.94 2.06.94-2.06 2.06-.94-2.06-.94-.94-2.06-.94 2.06-2.06.94z\"/><path d=\"M17.41 7.96l-1.37-1.37c-.4-.4-.92-.59-1.43-.59-.52 0-1.04.2-1.43.59L10.3 9.45l-7.72 7.72c-.78.78-.78 2.05 0 2.83L4 21.41c.39.39.9.59 1.41.59.51 0 1.02-.2 1.41-.59l7.78-7.78 2.81-2.81c.8-.78.8-2.07 0-2.86zM5.41 20L4 18.59l7.72-7.72 1.47 1.35L5.41 20z\"/>\n",
              "  </svg>\n",
              "      </button>\n",
              "      \n",
              "  <style>\n",
              "    .colab-df-container {\n",
              "      display:flex;\n",
              "      flex-wrap:wrap;\n",
              "      gap: 12px;\n",
              "    }\n",
              "\n",
              "    .colab-df-convert {\n",
              "      background-color: #E8F0FE;\n",
              "      border: none;\n",
              "      border-radius: 50%;\n",
              "      cursor: pointer;\n",
              "      display: none;\n",
              "      fill: #1967D2;\n",
              "      height: 32px;\n",
              "      padding: 0 0 0 0;\n",
              "      width: 32px;\n",
              "    }\n",
              "\n",
              "    .colab-df-convert:hover {\n",
              "      background-color: #E2EBFA;\n",
              "      box-shadow: 0px 1px 2px rgba(60, 64, 67, 0.3), 0px 1px 3px 1px rgba(60, 64, 67, 0.15);\n",
              "      fill: #174EA6;\n",
              "    }\n",
              "\n",
              "    [theme=dark] .colab-df-convert {\n",
              "      background-color: #3B4455;\n",
              "      fill: #D2E3FC;\n",
              "    }\n",
              "\n",
              "    [theme=dark] .colab-df-convert:hover {\n",
              "      background-color: #434B5C;\n",
              "      box-shadow: 0px 1px 3px 1px rgba(0, 0, 0, 0.15);\n",
              "      filter: drop-shadow(0px 1px 2px rgba(0, 0, 0, 0.3));\n",
              "      fill: #FFFFFF;\n",
              "    }\n",
              "  </style>\n",
              "\n",
              "      <script>\n",
              "        const buttonEl =\n",
              "          document.querySelector('#df-21538f0c-3f43-4ed8-81a2-3e2ba7dd04a5 button.colab-df-convert');\n",
              "        buttonEl.style.display =\n",
              "          google.colab.kernel.accessAllowed ? 'block' : 'none';\n",
              "\n",
              "        async function convertToInteractive(key) {\n",
              "          const element = document.querySelector('#df-21538f0c-3f43-4ed8-81a2-3e2ba7dd04a5');\n",
              "          const dataTable =\n",
              "            await google.colab.kernel.invokeFunction('convertToInteractive',\n",
              "                                                     [key], {});\n",
              "          if (!dataTable) return;\n",
              "\n",
              "          const docLinkHtml = 'Like what you see? Visit the ' +\n",
              "            '<a target=\"_blank\" href=https://colab.research.google.com/notebooks/data_table.ipynb>data table notebook</a>'\n",
              "            + ' to learn more about interactive tables.';\n",
              "          element.innerHTML = '';\n",
              "          dataTable['output_type'] = 'display_data';\n",
              "          await google.colab.output.renderOutput(dataTable, element);\n",
              "          const docLink = document.createElement('div');\n",
              "          docLink.innerHTML = docLinkHtml;\n",
              "          element.appendChild(docLink);\n",
              "        }\n",
              "      </script>\n",
              "    </div>\n",
              "  </div>\n",
              "  "
            ],
            "text/plain": [
              "      order_id  shop_id  ...              created_at  Per_item\n",
              "160        161       78  ... 2017-03-12 05:56:56.834   25725.0\n",
              "1056      1057       78  ... 2017-03-15 10:16:44.830   25725.0\n",
              "1193      1194       78  ... 2017-03-16 16:38:25.551   25725.0\n",
              "1204      1205       78  ... 2017-03-17 22:32:21.438   25725.0\n",
              "1384      1385       78  ... 2017-03-17 16:38:06.279   25725.0\n",
              "1419      1420       78  ... 2017-03-30 12:23:42.551   25725.0\n",
              "1452      1453       78  ... 2017-03-17 18:09:54.089   25725.0\n",
              "2270      2271       78  ... 2017-03-14 23:58:21.635   25725.0\n",
              "2548      2549       78  ... 2017-03-17 19:35:59.663   25725.0\n",
              "2773      2774       78  ... 2017-03-26 10:36:43.445   25725.0\n",
              "2922      2923       78  ... 2017-03-12 20:10:58.008   25725.0\n",
              "3085      3086       78  ... 2017-03-26 01:59:26.748   25725.0\n",
              "3151      3152       78  ... 2017-03-18 13:13:07.198   25725.0\n",
              "3440      3441       78  ... 2017-03-19 19:02:53.732   25725.0\n",
              "3780      3781       78  ... 2017-03-11 21:14:49.542   25725.0\n",
              "4040      4041       78  ... 2017-03-02 14:31:11.566   25725.0\n",
              "4505      4506       78  ... 2017-03-22 22:06:00.804   25725.0\n",
              "4584      4585       78  ... 2017-03-25 21:48:43.570   25725.0\n",
              "4918      4919       78  ... 2017-03-15 13:26:46.262   25725.0\n",
              "\n",
              "[19 rows x 8 columns]"
            ]
          },
          "metadata": {},
          "execution_count": 8
        }
      ]
    },
    {
      "cell_type": "markdown",
      "source": [
        "SHOP ID: 78 is selling a shoe at 25725 which can either be fraud or is an outlier to our dataset and should be treated before calculating any metrics"
      ],
      "metadata": {
        "id": "riJ6jFJRQsdb"
      }
    },
    {
      "cell_type": "markdown",
      "source": [
        "To Evaluate this data, we need to answer following questions:\n",
        "\n",
        "1)\tAre these outlier values true or just a system glitch while updating the data?\n",
        "\n",
        "If they are system glitch, we can follow following procedures to calculate AOV\n",
        "\n",
        "a)\tReplace the outlier values using IQR (inter quantile range) and then calculate the AOV.\n",
        "\n",
        "STEP 1: Calculate Q1 and Q3 from the average sales\n",
        "\n",
        "STEP 2: Clip the values in between 1.5(Q3-Q1) – Q1 and 1.5(Q3-Q1) + Q3 \n",
        "\n",
        "STEP 3: Calculate the average\n",
        "\n",
        "New value with IQR: 306.03"
      ],
      "metadata": {
        "id": "PwPqqkmkJJLK"
      }
    },
    {
      "cell_type": "code",
      "source": [
        "q3, q1 = np.percentile(df['order_amount'], [75 ,25])\n",
        "IQR = q3 - q1\n",
        "Upper_Limit = q3+1.5*IQR\n",
        "Lower_Limit = q1-1.5*IQR\n",
        "df['order_amount']=np.where(df['order_amount'] > Upper_Limit ,Upper_Limit,df['order_amount'])\n",
        "df['order_amount']=np.where(df['order_amount']< Lower_Limit ,Lower_Limit,df['order_amount'])\n",
        "print(\"Average Value after outlier Treatment:\",df['order_amount'].mean())"
      ],
      "metadata": {
        "colab": {
          "base_uri": "https://localhost:8080/"
        },
        "id": "CT0P1rtwObTU",
        "outputId": "4a1b3599-90d4-4e22-a1a7-f7811be86cf4"
      },
      "execution_count": 11,
      "outputs": [
        {
          "output_type": "stream",
          "name": "stdout",
          "text": [
            "Average Value after outlier Treatment: 306.0327\n"
          ]
        }
      ]
    },
    {
      "cell_type": "markdown",
      "source": [
        "If the outlier values are not a system glitch and they are verified value then we should report **median** for this data. As median is not affected by outliers so much. \n",
        "\n",
        "1) We will take **median** of the average value of all stores without removing anything."
      ],
      "metadata": {
        "id": "x11koYJ9LPRx"
      }
    },
    {
      "cell_type": "code",
      "source": [
        "# Display Median Order Value\n",
        "print('Median Order Value:', df['order_amount'].median())"
      ],
      "metadata": {
        "colab": {
          "base_uri": "https://localhost:8080/"
        },
        "id": "Yl1uJNi-NJmP",
        "outputId": "b9e96337-939e-47b2-874e-640077dbd9fc"
      },
      "execution_count": 9,
      "outputs": [
        {
          "output_type": "stream",
          "name": "stdout",
          "text": [
            "Median Order Value: 284.0\n"
          ]
        }
      ]
    },
    {
      "cell_type": "markdown",
      "source": [
        "2) We can delete the store 78 and stores with total item 2000 for a better representation of the Average value. (if we do not want to use median)"
      ],
      "metadata": {
        "id": "391uyXQDRk7I"
      }
    },
    {
      "cell_type": "code",
      "source": [
        "data_WO_Outlier = df[df['shop_id'] != 78]\n",
        "print('Median order Value after removing shoe price outier',data_WO_Outlier['order_amount'].median())\n",
        "data_WO_Outlier = data_WO_Outlier[data_WO_Outlier['total_items'] != 2000]\n",
        "print('Average order Value after removing shoe price outier and 2000 orders',data_WO_Outlier['order_amount'].mean())\n"
      ],
      "metadata": {
        "colab": {
          "base_uri": "https://localhost:8080/"
        },
        "id": "2bKoigwLRI4n",
        "outputId": "64aec5de-94db-4f14-bee5-e8be2dd1595d"
      },
      "execution_count": 10,
      "outputs": [
        {
          "output_type": "stream",
          "name": "stdout",
          "text": [
            "Median order Value after removing shoe price outier 284.0\n",
            "Average order Value after removing shoe price outier and 2000 orders 302.58051448247926\n"
          ]
        }
      ]
    },
    {
      "cell_type": "markdown",
      "source": [
        "It is also very prudent to group sellers based on the sales and then report AOV for different groups."
      ],
      "metadata": {
        "id": "dFwJ-Yw9Mv-O"
      }
    },
    {
      "cell_type": "markdown",
      "source": [
        "### Conclusion:\n",
        "\n",
        "1) Median Order Value is the best way to report the metric when we know the data is outlier. So 284 is the Median Order Value.\n",
        "\n",
        "2) If the outliers are a fraud/or something which we are not interested to represent an overall number, we should:\n",
        "\n",
        "\n",
        "*   Treat Them:\n",
        "\n",
        "    Average Order Value after treating outliers: 306.037\n",
        "*   Delete Them:\n",
        "\n",
        "    Average Order Value after deleting outliers: 302.58\n"
      ],
      "metadata": {
        "id": "UcpdA-J4UYcU"
      }
    },
    {
      "cell_type": "markdown",
      "source": [
        "## **Question 2**\n",
        "\n",
        "---\n",
        "\n",
        "Question 2: For this question you’ll need to use SQL. Follow this link to access the data set required for the challenge. Please use queries to answer the following questions. Paste your queries along with your final numerical answers below.\n",
        ":"
      ],
      "metadata": {
        "id": "qYi5SPkrNmSK"
      }
    },
    {
      "cell_type": "markdown",
      "source": [
        "### Question 2A:\n",
        "\n",
        "---\n",
        "\n",
        "\n",
        "\n",
        "How many orders were shipped by Speedy Express in total? \n",
        "\n",
        "\n",
        "---\n",
        "\n",
        "\n",
        "\n",
        "**Answer 2A: 54**\n",
        "\n",
        "Query: SELECT COUNT(*) FROM ORDERS a JOIN Shippers b ON a.ShipperID = b.ShipperID WHERE ShipperName = \"Speedy Express\""
      ],
      "metadata": {
        "id": "2YIyqRfAOJph"
      }
    },
    {
      "cell_type": "markdown",
      "source": [
        "### Question 2B: \n",
        "\n",
        "---\n",
        "\n",
        "\n",
        "What is the last name of the employee with the most orders? \n",
        "\n",
        "\n",
        "---\n",
        "\n",
        "\n",
        "\n",
        "**Answer 2B: Peacock**\n",
        "\n",
        "Method: As w3 schools do not use WITH statements, i had to use sub queries. \n",
        "Here this query helps us to retrieve last name of all the employees with most orders\n",
        "\n",
        "SELECT * FROM\n",
        "\n",
        "(SELECT LastName,count(1) AS CNT FROM Orders A\n",
        "\n",
        "\n",
        "LEFT JOIN Employees B\n",
        "ON A.EmployeeID = B.EmployeeID\n",
        "group by LastName)AA\n",
        "\n",
        "\n",
        "WHERE AA.CNT = (SELECT MAX(CNT) FROM\n",
        "(SELECT LastName,count(1) AS CNT FROM Orders A\n",
        "\n",
        "\n",
        "LEFT JOIN Employees B\n",
        "ON A.EmployeeID = B.EmployeeID\n",
        "group by LastName))\n",
        "\n"
      ],
      "metadata": {
        "id": "Y7MgNdAFVmH9"
      }
    },
    {
      "cell_type": "markdown",
      "source": [
        "### Question 2C: \n",
        "\n",
        "\n",
        "---\n",
        "\n",
        "\n",
        "What product was ordered the most by customers in Germany?\n",
        "\n",
        "---\n",
        "\n",
        "\n",
        "\n",
        "**Answer 2C: Gorgonzola Telino**\n",
        "\n",
        "Query: \n",
        "\n",
        "SELECT TOP 1 ProductName FROM\n",
        "\n",
        "\n",
        "(SELECT Productname FROM \n",
        "\n",
        "\n",
        "(SELECT * FROM\n",
        "\n",
        "\n",
        "(SELECT * FROM ORDERS A\n",
        "LEFT JOIN ORDERDETAILS B\n",
        "ON A.ORDERID = B.ORDERID)C\n",
        "\n",
        "\n",
        "LEFT JOIN PRODUCTS D\n",
        "ON C.PRODUCTID = D.PRODUCTID)E\n",
        "\n",
        "\n",
        "LEFT JOIN CUSTOMERS F\n",
        "ON E.CUSTOMERID = F.CUSTOMERID\n",
        "where country = 'GERMANY'\n",
        "group by productname\n",
        "order by count(1) desc)\n",
        "\n"
      ],
      "metadata": {
        "id": "6L2PicPFGfEl"
      }
    }
  ]
}